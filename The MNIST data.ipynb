{
 "cells": [
  {
   "cell_type": "markdown",
   "id": "135f3b78",
   "metadata": {},
   "source": [
    "# Q1 The MNIST data\n",
    "\n",
    "It seems that no course on Machine Learning is complete, without training a network on the famous [MNIST dataset](https://en.wikipedia.org/wiki/MNIST_database) of handwritten digits.  You can access them through `keras.datasets.mnist.load_data()`.\n",
    "\n",
    "The tasks for the first assignment is therefore:\n",
    "\n",
    "a) (2 marks) Reproduce the results of L03, but now use the original MNIST dataset.  Comment on your observations on the differences between the datasets.\n",
    "\n",
    "b) (5 marks) How can you improve the performance of the network? Here some suggestions of what you can try\n",
    "   - Change the number of nodes in the hidden layer\n",
    "   - Use a different loss function\n",
    "   - Use a different optimizer\n",
    "   - change the number of epochs\n",
    "   - change the batch size\n",
    "   - play with a dropout layer\n",
    "   - work with two hidden layers\n",
    "   - work with three hidden layers\n",
    "   \n",
    "Explain the effect of changing parameters in your own words and draw conclusions about how performance improves.  The mark for this part will depend on the overall insight demonstrated.  Code alone does not yield marks. \n",
    "Note that one aspect of performance is required training time.  Do not use code cells which take longer than 10 minutes to run on standard CPU based hardware. (Also don't use code which exceeds standard memory requirements of about 8GB RAM, but that should not be an issure here)"
   ]
  },
  {
   "cell_type": "code",
   "execution_count": 1,
   "id": "230829b8",
   "metadata": {},
   "outputs": [
    {
     "name": "stderr",
     "output_type": "stream",
     "text": [
      "2024-05-17 07:17:53.550525: W tensorflow/stream_executor/platform/default/dso_loader.cc:64] Could not load dynamic library 'libcudart.so.11.0'; dlerror: libcudart.so.11.0: cannot open shared object file: No such file or directory\n",
      "2024-05-17 07:17:53.550550: I tensorflow/stream_executor/cuda/cudart_stub.cc:29] Ignore above cudart dlerror if you do not have a GPU set up on your machine.\n"
     ]
    },
    {
     "name": "stdout",
     "output_type": "stream",
     "text": [
      "2.9.1\n",
      "2.9.0\n"
     ]
    }
   ],
   "source": [
    "# execute this cell before you start\n",
    "\n",
    "import tensorflow as tf\n",
    "import tensorflow.keras\n",
    "\n",
    "# Helper libraries\n",
    "import numpy as np\n",
    "import matplotlib.pyplot as plt\n",
    "\n",
    "print(tf.__version__)\n",
    "print(tf.keras.__version__)"
   ]
  },
  {
   "cell_type": "markdown",
   "id": "628c8870",
   "metadata": {},
   "source": [
    "For this project, We will roughly follow the nice online tutorial at https://www.tensorflow.org/tutorials/keras/classification."
   ]
  },
  {
   "cell_type": "code",
   "execution_count": 2,
   "id": "a82509aa",
   "metadata": {},
   "outputs": [],
   "source": [
    "mnist = tf.keras.datasets.mnist\n",
    "\n",
    "(train_images, train_labels), (test_images, test_labels) = mnist.load_data()"
   ]
  },
  {
   "cell_type": "markdown",
   "id": "f9e2cbfb",
   "metadata": {},
   "source": [
    "The above cell accesses a data set `mnist`, which is a dataset of handwritten digits. After the above command, we have created four numpy arrays which contains the data. The data is split into training and testing data. The idea is that you train your network with the training data and then test if the training was successful with the testing data. Each data set consists of images and labels. Let us look more closely:"
   ]
  },
  {
   "cell_type": "code",
   "execution_count": 3,
   "id": "72b08125",
   "metadata": {},
   "outputs": [
    {
     "data": {
      "text/plain": [
       "((60000, 28, 28), numpy.ndarray)"
      ]
     },
     "execution_count": 3,
     "metadata": {},
     "output_type": "execute_result"
    }
   ],
   "source": [
    "train_images.shape, type(train_images)"
   ]
  },
  {
   "cell_type": "markdown",
   "id": "1010ff28",
   "metadata": {},
   "source": [
    "This means that we have 60000 images, and each image has 28x28 pixels. We can for example look at the first row of image number 200:"
   ]
  },
  {
   "cell_type": "code",
   "execution_count": 4,
   "id": "a86bf648",
   "metadata": {},
   "outputs": [
    {
     "data": {
      "text/plain": [
       "array([0, 0, 0, 0, 0, 0, 0, 0, 0, 0, 0, 0, 0, 0, 0, 0, 0, 0, 0, 0, 0, 0,\n",
       "       0, 0, 0, 0, 0, 0], dtype=uint8)"
      ]
     },
     "execution_count": 4,
     "metadata": {},
     "output_type": "execute_result"
    }
   ],
   "source": [
    "train_images[200][0]"
   ]
  },
  {
   "cell_type": "code",
   "execution_count": 5,
   "id": "ad9dfcd7",
   "metadata": {},
   "outputs": [
    {
     "data": {
      "text/plain": [
       "255"
      ]
     },
     "execution_count": 5,
     "metadata": {},
     "output_type": "execute_result"
    }
   ],
   "source": [
    "np.max(train_images[200])"
   ]
  },
  {
   "cell_type": "markdown",
   "id": "d18ef278",
   "metadata": {},
   "source": [
    "We see that the data is of type `uint8`, which refers to 8 bits of unsigned integers. This means that each number is between 0 and 255. \n",
    "\n",
    "In order to see one of the figures, we use `plt.imshow` with a `binary` [colourmap](https://matplotlib.org/users/colormaps.html)."
   ]
  },
  {
   "cell_type": "code",
   "execution_count": 6,
   "id": "6fb94085",
   "metadata": {},
   "outputs": [
    {
     "data": {
      "text/plain": [
       "((60000, 28, 28), numpy.ndarray)"
      ]
     },
     "execution_count": 6,
     "metadata": {},
     "output_type": "execute_result"
    },
    {
     "data": {
      "image/png": "[encoded data removed]",
      "text/plain": [
       "<Figure size 432x288 with 1 Axes>"
      ]
     },
     "metadata": {
      "needs_background": "light"
     },
     "output_type": "display_data"
    }
   ],
   "source": [
    "plt.imshow(train_images[200],cmap=\"binary\")\n",
    "\n",
    "train_images.shape, type(train_images)"
   ]
  },
  {
   "cell_type": "markdown",
   "id": "8cf14f23",
   "metadata": {},
   "source": [
    "By comparing with the first row, which we printed above, we see that values of `0` correspond to *white* pixels, and positive numbers correspond to grey/black pixels. \n",
    "\n",
    "Let us now look at the training labels:"
   ]
  },
  {
   "cell_type": "code",
   "execution_count": 7,
   "id": "ffc83312",
   "metadata": {},
   "outputs": [
    {
     "data": {
      "text/plain": [
       "((60000,), numpy.ndarray)"
      ]
     },
     "execution_count": 7,
     "metadata": {},
     "output_type": "execute_result"
    }
   ],
   "source": [
    "train_labels.shape, type(train_labels)"
   ]
  },
  {
   "cell_type": "code",
   "execution_count": 8,
   "id": "2853d18b",
   "metadata": {},
   "outputs": [
    {
     "data": {
      "text/plain": [
       "dtype('uint8')"
      ]
     },
     "execution_count": 8,
     "metadata": {},
     "output_type": "execute_result"
    }
   ],
   "source": [
    "train_labels.dtype"
   ]
  },
  {
   "cell_type": "code",
   "execution_count": 9,
   "id": "e5f28e57",
   "metadata": {},
   "outputs": [
    {
     "data": {
      "text/plain": [
       "(9, 1)"
      ]
     },
     "execution_count": 9,
     "metadata": {},
     "output_type": "execute_result"
    }
   ],
   "source": [
    "max(train_labels), train_labels[200]"
   ]
  },
  {
   "cell_type": "markdown",
   "id": "279efebd",
   "metadata": {},
   "source": [
    "We see that there are 60000 training labels, one for each training image. The labels are just numbers from 0 to 9. Each number corresponds to specific Number (0 to 9).. In order to access them more conveniently, let us list them in a list:"
   ]
  },
  {
   "cell_type": "code",
   "execution_count": 10,
   "id": "95873b98",
   "metadata": {},
   "outputs": [
    {
     "data": {
      "text/plain": [
       "'1'"
      ]
     },
     "execution_count": 10,
     "metadata": {},
     "output_type": "execute_result"
    }
   ],
   "source": [
    "class_names = ['0', '1', '2', '3', '4', \n",
    "               '5', '6', '7', '8', '9']\n",
    "\n",
    "class_names[1]"
   ]
  },
  {
   "cell_type": "markdown",
   "id": "8412b6c4",
   "metadata": {},
   "source": [
    "The `test_images` and `test_labels` are structured in a similar way, except that there are only 10000 of them:"
   ]
  },
  {
   "cell_type": "code",
   "execution_count": 11,
   "id": "7b3e1599",
   "metadata": {},
   "outputs": [
    {
     "data": {
      "text/plain": [
       "(10000, 28, 28)"
      ]
     },
     "execution_count": 11,
     "metadata": {},
     "output_type": "execute_result"
    }
   ],
   "source": [
    "test_images.shape"
   ]
  },
  {
   "cell_type": "markdown",
   "id": "b0ec83d3",
   "metadata": {},
   "source": [
    "## Normalize the input\n",
    "\n",
    "In order to work with this data it is useful to first normalize the input to the interval between 0 and 1:\n",
    "\n",
    "To normalize the data we divide the values by 255. This is because each pixel can be represented by a number between 0 and 255."
   ]
  },
  {
   "cell_type": "code",
   "execution_count": 12,
   "id": "6df1f0cb",
   "metadata": {},
   "outputs": [],
   "source": [
    "train_images = train_images / 255.0 #so that each values is  limited between 0 and 1\n",
    "\n",
    "test_images = test_images / 255.0"
   ]
  },
  {
   "cell_type": "markdown",
   "id": "a63c174f",
   "metadata": {},
   "source": [
    "Let us then have a look at the first couple of training images, to see if everything is correctly labelled:\n",
    "\n",
    "Output a number of images to the screen in order to check that all training images have been correctly labelled."
   ]
  },
  {
   "cell_type": "code",
   "execution_count": 13,
   "id": "883dd30c",
   "metadata": {},
   "outputs": [
    {
     "data": {
      "image/png": "[encoded data removed]",
      "text/plain": [
       "<Figure size 720x720 with 25 Axes>"
      ]
     },
     "metadata": {},
     "output_type": "display_data"
    }
   ],
   "source": [
    "plt.figure(figsize=(10,10))\n",
    "for i in range(25):\n",
    "    plt.subplot(5,5,i+1)\n",
    "    plt.xticks([])\n",
    "    plt.yticks([])\n",
    "    plt.grid(False)\n",
    "    plt.imshow(train_images[i], cmap=plt.cm.binary)\n",
    "    plt.xlabel(class_names[train_labels[i]])"
   ]
  },
  {
   "cell_type": "markdown",
   "id": "fdbd190b",
   "metadata": {},
   "source": [
    "# Building the model\n",
    "\n",
    "In order to build a network, which can be trained to recognize the images, we use the [Keras](https://tf.keras.io/) framework. Keras is a high-level interface to describe Neural Networks. Tensorflow comes with one implementation of Keras, which we will use here. \n",
    "\n",
    "The first task is to build a model, which organizes the different layers of our network. In our case the layers will be sequentially stacked, and we use `tf.keras.Sequential`:"
   ]
  },
  {
   "cell_type": "code",
   "execution_count": 14,
   "id": "7d0dadba",
   "metadata": {},
   "outputs": [
    {
     "name": "stderr",
     "output_type": "stream",
     "text": [
      "2024-05-17 07:17:57.876246: W tensorflow/stream_executor/platform/default/dso_loader.cc:64] Could not load dynamic library 'libcuda.so.1'; dlerror: libcuda.so.1: cannot open shared object file: No such file or directory\n",
      "2024-05-17 07:17:57.876279: W tensorflow/stream_executor/cuda/cuda_driver.cc:269] failed call to cuInit: UNKNOWN ERROR (303)\n",
      "2024-05-17 07:17:57.876305: I tensorflow/stream_executor/cuda/cuda_diagnostics.cc:156] kernel driver does not appear to be running on this host (patrick-OptiPlex-7020): /proc/driver/nvidia/version does not exist\n",
      "2024-05-17 07:17:57.876542: I tensorflow/core/platform/cpu_feature_guard.cc:193] This TensorFlow binary is optimized with oneAPI Deep Neural Network Library (oneDNN) to use the following CPU instructions in performance-critical operations:  AVX2 FMA\n",
      "To enable them in other operations, rebuild TensorFlow with the appropriate compiler flags.\n"
     ]
    }
   ],
   "source": [
    "model = tf.keras.Sequential([\n",
    "    tf.keras.layers.Flatten(input_shape=(28, 28)),      \n",
    "    tf.keras.layers.Dense(128, activation=tf.nn.relu),  \n",
    "    tf.keras.layers.Dense(10, activation=tf.nn.softmax) \n",
    "])"
   ]
  },
  {
   "cell_type": "markdown",
   "id": "aee56bf3",
   "metadata": {},
   "source": [
    "Some notes on the above:\n",
    "- 28 x 28 pixels are flattened in one vector of size 784 x 1\n",
    "- A dense layer with 128 outputs. \n",
    "- relu - if input is below zero make it zero otherwise do nothing\n",
    "- whether input responds to one of the numbers assigned to class names\n",
    "\n",
    "The output shape of the flatten layer is (None, 784), where none refers to arbitary unspecified dimensions. There are no parameters to train in this flatten layer.\n",
    "\n",
    "In our first dense layer, we specife 128 nodes and therefore the output shape is (None, 128) the number of parameters are the weights connecting the 784 outputs of the previous layers with the 128 inputs of the current layer.\n",
    "\n",
    "Here `Flatten()` defines the inpout layer and specifies that the 28x28 input from each image shall be processed as 784 individual channels henceforth. `Dense()` define layers of neurons in the network with the given activation function. Dense refers to the fact that each neuron will be coupled to all outputs of the preceeding layer. The last layer has 10 nodes, which are the output nodes. This is a *softmax* layer, which is explained in the next cell. An overview of other layers can be found [here](https://tf.keras.io/api/layers/core_layers/)."
   ]
  },
  {
   "cell_type": "markdown",
   "id": "cea6d982",
   "metadata": {},
   "source": [
    "We can get an overview of the model using the following formula 'model.summary()'\n"
   ]
  },
  {
   "cell_type": "code",
   "execution_count": 15,
   "id": "b3b77884",
   "metadata": {},
   "outputs": [
    {
     "name": "stdout",
     "output_type": "stream",
     "text": [
      "Model: \"sequential\"\n",
      "_________________________________________________________________\n",
      " Layer (type)                Output Shape              Param #   \n",
      "=================================================================\n",
      " flatten (Flatten)           (None, 784)               0         \n",
      "                                                                 \n",
      " dense (Dense)               (None, 128)               100480    \n",
      "                                                                 \n",
      " dense_1 (Dense)             (None, 10)                1290      \n",
      "                                                                 \n",
      "=================================================================\n",
      "Total params: 101,770\n",
      "Trainable params: 101,770\n",
      "Non-trainable params: 0\n",
      "_________________________________________________________________\n"
     ]
    }
   ],
   "source": [
    "model.summary()"
   ]
  },
  {
   "cell_type": "markdown",
   "id": "fd90c716",
   "metadata": {},
   "source": [
    "The output shape of the flatten layer is (None, 784), where none refers to arbitary unspecified dimensions. There are 0 parameters to train in this flatten layer.\n",
    "\n",
    "In our first dense layer, we specify 128 nodes and therefore the output shape is (None, 128) the number of parameters are the weights connecting the 784 outputs of the previous layers \n",
    "with the 128 inputs of the current layer. Each of 128 nodes has one bias parameter. \n",
    "The final number of parameters can be calculated as follows:\n",
    "    (784 + 1) x 128 = 100,480\n",
    "\n",
    "#The final layer is calculated in a similar fashion, we specify 10 nodes and therefore its output is (None,10). The number of parameters are the weights connecting the 128 outputs of the previous layerwith the 10 inputs of the current layer. Each of the 10 nodes has one bias parameter.The final number of parameters can be calculated as follows:\n",
    "    (128 + 1) x 10 = 1,290\n",
    "\n",
    "Total params figure is the addition of all parameters in each layer:\n",
    "   0 + 100,480 + 1,290 = 101,770"
   ]
  },
  {
   "cell_type": "markdown",
   "id": "aab12326",
   "metadata": {},
   "source": [
    "## Compiling the model\n",
    "\n",
    "Here we specify our choosen optimzer and our loss function in order to complie the model.\n",
    "\n",
    "In this case we are choosing to use the adam optimizer, which is an extension of stochastic gradient decent. An optimiser will modify attributes of a neural network (i.e weights and leanring rates)\n",
    "\n",
    "Some of adams benefits include:\n",
    "- Little memory requirement\n",
    "- Is optimal for issues that have a large amount of parameters (or data)\n",
    "\n",
    "The loss function is a method of meassuring how well the choosen algorithm models the dataset\n",
    "In this case the sparse categorical crossentropy loss function was picked. This function comuptes the cross-entropy loss between true labels and predictied labels. This function is ideal for multi-classifcation applications as is required as we have 10 categorys from 0 to 9."
   ]
  },
  {
   "cell_type": "code",
   "execution_count": 16,
   "id": "35149be2",
   "metadata": {},
   "outputs": [],
   "source": [
    "model.compile(optimizer='adam', \n",
    "              loss='sparse_categorical_crossentropy',\n",
    "              metrics=['accuracy'])"
   ]
  },
  {
   "cell_type": "markdown",
   "id": "26550290",
   "metadata": {},
   "source": [
    "## Training the Network\n",
    "\n",
    "Finally we are now in a position to train our network. This is done through the fit() method:\n",
    "\n",
    "We feed our model network the training data. The number of epochs refers to the number of times the computer sees the training data. In this scenario we are letting the computer is the data 5 times.\n",
    "\n",
    "n other useful parameters to play is batch_size, which indicates the number of images per gradient update. If you do not specify batch_size the default of 32 is used. "
   ]
  },
  {
   "cell_type": "code",
   "execution_count": 17,
   "id": "32e27f2c",
   "metadata": {},
   "outputs": [
    {
     "name": "stdout",
     "output_type": "stream",
     "text": [
      "Epoch 1/3\n"
     ]
    },
    {
     "name": "stderr",
     "output_type": "stream",
     "text": [
      "2024-05-17 07:17:58.181901: W tensorflow/core/framework/cpu_allocator_impl.cc:82] Allocation of 188160000 exceeds 10% of free system memory.\n"
     ]
    },
    {
     "name": "stdout",
     "output_type": "stream",
     "text": [
      "469/469 [==============================] - 2s 4ms/step - loss: 0.3636 - accuracy: 0.8981\n",
      "Epoch 2/3\n",
      "469/469 [==============================] - 2s 4ms/step - loss: 0.1625 - accuracy: 0.9538\n",
      "Epoch 3/3\n",
      "469/469 [==============================] - 2s 4ms/step - loss: 0.1160 - accuracy: 0.9670\n"
     ]
    },
    {
     "data": {
      "text/plain": [
       "<keras.callbacks.History at 0x7ff8986ef910>"
      ]
     },
     "execution_count": 17,
     "metadata": {},
     "output_type": "execute_result"
    }
   ],
   "source": [
    "model.fit(train_images, train_labels, epochs=3, batch_size=128) "
   ]
  },
  {
   "cell_type": "markdown",
   "id": "3b21aaab",
   "metadata": {},
   "source": [
    "## Evaluating test data using the trained network\n",
    "\n",
    "The member function `evaluate` is used to apply the trained network to all the *testing data* and calculate the accuracy of the predictions. "
   ]
  },
  {
   "cell_type": "code",
   "execution_count": 18,
   "id": "bb8f6b4f",
   "metadata": {},
   "outputs": [
    {
     "data": {
      "text/plain": [
       "((10000, 28, 28), tuple)"
      ]
     },
     "execution_count": 18,
     "metadata": {},
     "output_type": "execute_result"
    }
   ],
   "source": [
    "test_images.shape, type(test_images.shape)"
   ]
  },
  {
   "cell_type": "code",
   "execution_count": 19,
   "id": "fb40004a",
   "metadata": {},
   "outputs": [
    {
     "name": "stderr",
     "output_type": "stream",
     "text": [
      "2024-05-17 07:18:04.394032: W tensorflow/core/framework/cpu_allocator_impl.cc:82] Allocation of 31360000 exceeds 10% of free system memory.\n"
     ]
    },
    {
     "name": "stdout",
     "output_type": "stream",
     "text": [
      "313/313 [==============================] - 1s 2ms/step - loss: 0.1111 - accuracy: 0.9676\n",
      "Test accuracy: 0.9675999879837036\n"
     ]
    }
   ],
   "source": [
    "test_loss, test_acc = model.evaluate(test_images, test_labels)\n",
    "\n",
    "print('Test accuracy:', test_acc)"
   ]
  },
  {
   "cell_type": "markdown",
   "id": "79e70f00",
   "metadata": {},
   "source": [
    "Internally, `evaluate` uses `predict` to calculate the output vector for all testing data, and then checks, which of the outputs is the largest one. This is then compared with the correct label.  We can also do this by hand:"
   ]
  },
  {
   "cell_type": "code",
   "execution_count": 20,
   "id": "5aeb4c59",
   "metadata": {},
   "outputs": [
    {
     "name": "stdout",
     "output_type": "stream",
     "text": [
      " 58/313 [====>.........................] - ETA: 0s"
     ]
    },
    {
     "name": "stderr",
     "output_type": "stream",
     "text": [
      "2024-05-17 07:18:05.323421: W tensorflow/core/framework/cpu_allocator_impl.cc:82] Allocation of 31360000 exceeds 10% of free system memory.\n"
     ]
    },
    {
     "name": "stdout",
     "output_type": "stream",
     "text": [
      "313/313 [==============================] - 1s 2ms/step\n"
     ]
    }
   ],
   "source": [
    "predictions = model.predict(test_images)"
   ]
  },
  {
   "cell_type": "markdown",
   "id": "5b0461f0",
   "metadata": {},
   "source": [
    "For example for test timage number 200 we find the following prediction:\n"
   ]
  },
  {
   "cell_type": "code",
   "execution_count": 21,
   "id": "8847debf",
   "metadata": {},
   "outputs": [
    {
     "data": {
      "text/plain": [
       "(array([3.8469120e-06, 4.7532151e-08, 1.5148594e-03, 9.9467260e-01,\n",
       "        3.3022782e-09, 2.3518202e-03, 3.3572578e-09, 1.3066463e-09,\n",
       "        1.4566260e-03, 4.3769131e-08], dtype=float32),\n",
       " 0.9999998482437427)"
      ]
     },
     "execution_count": 21,
     "metadata": {},
     "output_type": "execute_result"
    }
   ],
   "source": [
    "predictions[200], sum(predictions[200])"
   ]
  },
  {
   "cell_type": "markdown",
   "id": "096e7eed",
   "metadata": {},
   "source": [
    "We can now see what the prediction vector looks like for number 200 of the test images each of 10 entrys represent the probabily that the image represents a particular number 0 to 9. In our example the largest number is the 4th entry in the vector which correspondes with the class name '3'."
   ]
  },
  {
   "cell_type": "code",
   "execution_count": 22,
   "id": "681d372d",
   "metadata": {},
   "outputs": [
    {
     "data": {
      "text/plain": [
       "(3, '3')"
      ]
     },
     "execution_count": 22,
     "metadata": {},
     "output_type": "execute_result"
    }
   ],
   "source": [
    "np.argmax(predictions[200]), class_names[np.argmax(predictions[200])]"
   ]
  },
  {
   "cell_type": "markdown",
   "id": "b5682671",
   "metadata": {},
   "source": [
    "We can check the image and true label for this case and indeed confirm that we have a figure '3':"
   ]
  },
  {
   "cell_type": "code",
   "execution_count": 23,
   "id": "34d33b53",
   "metadata": {},
   "outputs": [
    {
     "data": {
      "text/plain": [
       "(<matplotlib.image.AxesImage at 0x7ff8b70f18b0>, '3')"
      ]
     },
     "execution_count": 23,
     "metadata": {},
     "output_type": "execute_result"
    },
    {
     "data": {
      "image/png": "[encoded data removed]",
      "text/plain": [
       "<Figure size 432x288 with 1 Axes>"
      ]
     },
     "metadata": {
      "needs_background": "light"
     },
     "output_type": "display_data"
    }
   ],
   "source": [
    "plt.imshow(test_images[200],cmap=\"binary\"), class_names[test_labels[200]]"
   ]
  },
  {
   "cell_type": "markdown",
   "id": "779a199f",
   "metadata": {},
   "source": [
    "In this case, our classification has clearly worked. Given we have a model accurary 0.97 there are sceanrios where classifcation fails."
   ]
  },
  {
   "cell_type": "code",
   "execution_count": 24,
   "id": "b493d216",
   "metadata": {},
   "outputs": [],
   "source": [
    "def plot_image(i, predictions_array, true_label, img):\n",
    "    predictions_array, true_label, img = predictions_array, true_label[i], img[i]\n",
    "    plt.grid(False)\n",
    "    plt.xticks([])\n",
    "    plt.yticks([])\n",
    "\n",
    "    plt.imshow(img, cmap=plt.cm.binary)\n",
    "\n",
    "    predicted_label = np.argmax(predictions_array)\n",
    "    if predicted_label == true_label:\n",
    "        color = 'blue'\n",
    "    else:\n",
    "        color = 'red'\n",
    "\n",
    "    plt.xlabel(\"{} {:2.0f}% ({})\".format(class_names[predicted_label],\n",
    "                                100*np.max(predictions_array),\n",
    "                                class_names[true_label]),\n",
    "                                color=color)\n",
    "\n",
    "def plot_value_array(i, predictions_array, true_label):\n",
    "    predictions_array, true_label = predictions_array, true_label[i]\n",
    "    plt.grid(False)\n",
    "    plt.xticks(range(10))\n",
    "    plt.yticks([])\n",
    "    thisplot = plt.bar(range(10), predictions_array, color=\"#777777\")\n",
    "    plt.ylim([0, 1])\n",
    "    predicted_label = np.argmax(predictions_array)\n",
    "\n",
    "    thisplot[predicted_label].set_color('red')\n",
    "    thisplot[true_label].set_color('blue')"
   ]
  },
  {
   "cell_type": "markdown",
   "id": "d0b083b3",
   "metadata": {},
   "source": [
    "To demonstrtate, what they do, let us test it with the trousers:"
   ]
  },
  {
   "cell_type": "code",
   "execution_count": 25,
   "id": "c2090942",
   "metadata": {},
   "outputs": [
    {
     "data": {
      "image/png": "[encoded data removed]",
      "text/plain": [
       "<Figure size 432x216 with 2 Axes>"
      ]
     },
     "metadata": {
      "needs_background": "light"
     },
     "output_type": "display_data"
    }
   ],
   "source": [
    "i = 200\n",
    "plt.figure(figsize=(6,3))\n",
    "plt.subplot(1,2,1)\n",
    "plot_image(i, predictions[i], test_labels, test_images)\n",
    "plt.subplot(1,2,2)\n",
    "plot_value_array(i, predictions[i],  test_labels)\n",
    "plt.show()"
   ]
  },
  {
   "cell_type": "code",
   "execution_count": 26,
   "id": "ce75e043",
   "metadata": {},
   "outputs": [
    {
     "data": {
      "image/png": "[encoded data removed]",
      "text/plain": [
       "<Figure size 864x720 with 30 Axes>"
      ]
     },
     "metadata": {
      "needs_background": "light"
     },
     "output_type": "display_data"
    }
   ],
   "source": [
    "# Plot the first X test images, their predicted labels, and the true labels.\n",
    "# Color correct predictions in blue and incorrect predictions in red.\n",
    "\n",
    "offset=20\n",
    "num_rows = 5\n",
    "num_cols = 3\n",
    "num_images = num_rows*num_cols\n",
    "plt.figure(figsize=(2*2*num_cols, 2*num_rows))\n",
    "for i in range(num_images):\n",
    "    plt.subplot(num_rows, 2*num_cols, 2*i+1)\n",
    "    plot_image(i+offset, predictions[i+offset], test_labels, test_images)\n",
    "    plt.subplot(num_rows, 2*num_cols, 2*i+2)\n",
    "    plot_value_array(i+offset, predictions[i+offset], test_labels)\n",
    "plt.tight_layout()\n",
    "plt.show()"
   ]
  },
  {
   "cell_type": "markdown",
   "id": "37eeb5de",
   "metadata": {},
   "source": [
    "As we can see, of the 15 test data entries we sampled, The model has correctly labels all 15 correctly. In the majority of cases the model is 100% sure that it has labelled what it is reading in correctly. A few interesting points of note would be the 4 ( the 14th entry). The model is not as sure that what it looking at is a 4. This is a remarkably good accuracy but it's interesting to note that is also thinks theres a possiblity it could be 0 or 6.\n",
    "\n",
    "Difference between the MNIST anf Fashion_MNIST datasets:\n",
    "   - The test accuracy for MNIST is greater than Fashion_MNIST. This is due to the fact that the dataset Fashion_MNIST is a more challenging replacement. This is clear from observing samples of both datasets. In MNIST there is a very clear difference between the background (white) and the number (in black). The transition from white to black is also very immdiate. Where as with the Fashion_MNIST dataset the greyscaled images pick up light coloured materials as grey or even white.\n",
    "   - It's also harder to distinguish some of the items in Fashion_MNIST. For example some dresses look like tops, coats look like dresses and visa versa. IN the case of footwear the silohettes of a sneaker can be mistaken for a ankle boot. In the MNIST data set we just have the digits 0 to 9 which be design are meant to look as different as possible from one another."
   ]
  },
  {
   "cell_type": "markdown",
   "id": "d38a8a2b",
   "metadata": {},
   "source": [
    "b) (5 marks) How can you improve the performance of the network? Here some suggestions of what you can try\n",
    "\n",
    "    Change the number of nodes in the hidden layer"
   ]
  },
  {
   "cell_type": "markdown",
   "id": "3c8873c1",
   "metadata": {},
   "source": [
    "## Changing the number of nodes in the hidden layer\n",
    "\n",
    "As an example, we changed the number of nodes in the hidden layer in order to observe its effect on the Test accuracy. The number of nodes were changed from the original 128 to 32.\n",
    "\n",
    "It was noted that the test accuracy suffers as a result of the reduction in nodes.\n",
    "\n",
    "In general, it is cosidered that the optimal size of the hidden layer is usually between the size of the input and the size of the output layer. i.e. the number of nuerons in that layer is the mean of the neurons in the input and ouput layers."
   ]
  },
  {
   "cell_type": "markdown",
   "id": "73279a96",
   "metadata": {},
   "source": [
    "b) (5 marks) How can you improve the performance of the network? Here some suggestions of what you can try\n",
    "   \n",
    "   - change the number of epochs\n"
   ]
  },
  {
   "cell_type": "markdown",
   "id": "88e73632",
   "metadata": {},
   "source": [
    "As an example, we changed the number of epcohs,  to observe its effect on the Test accuracy. The number of nodes were changed from the original 3 to 1.\n",
    "\n",
    "The reduction of epochs definitely reduces the test accuracy. \n",
    "\n",
    "In general, when it comes to deciding on the optimal number of epoch to train a neural network one must be concious of overfitting the data. When the number of epochs used to train a neural network is more than necesscary, the training model learns pattern in the data that specific to the datset.\n",
    "\n",
    "How we can observed overfitting in our models, a good way to observe overfitting is by looking at the loss values. Training should come to a halt if your loss values increase."
   ]
  },
  {
   "cell_type": "markdown",
   "id": "3a7869fb",
   "metadata": {},
   "source": [
    "b) (5 marks) How can you improve the performance of the network? Here some suggestions of what you can try\n",
    "\n",
    "   - change the batch size"
   ]
  },
  {
   "cell_type": "markdown",
   "id": "78b516a8",
   "metadata": {},
   "source": [
    "# Batch Size\n",
    "\n",
    "As an example, we changed the batch size when fitting the data to the model,  to observe its effect on the Test accuracy. The batch size as changed from the original 32 (default) to 8.\n",
    "\n",
    "It was noted that the test accuracy was so high initially that it's diffcult to note any improvement. But in this case a large batch size seems to reduce model accuracy. In comparison, I also looked at abatch size of 128 which compariably has a better test accuracy.\n",
    "\n",
    "The batch size is the number of samples passed to the network at each traing step. the larger the batch size the the smaller the step size. The larger the batch size the faster the it takes for the model to complie.\n",
    "\n",
    "In this sceanrio, seeing as it only take a low amount of epochs to train a model with a suitable accurcary we can aford to train a model with a lower batch size."
   ]
  },
  {
   "cell_type": "markdown",
   "id": "49a50eea",
   "metadata": {},
   "source": [
    "b) (5 marks) How can you improve the performance of the network? Here some suggestions of what you can try\n",
    "\n",
    "   - Use a different optimizer\n"
   ]
  },
  {
   "cell_type": "markdown",
   "id": "df3a7adb",
   "metadata": {},
   "source": [
    "# Choice of Optimizers\n",
    "\n",
    "In the example carried out above, we have looked at a number of different optimizers and apply it to this dataset.\n",
    "\n",
    "The optimizer that I have examined are adam, RMSprop and SGD (Gradient decent).\n",
    "\n",
    "An optimizer is define in model.complie. an optimizer updates a model in reposnse the the output of the loss function. They assist in minimizing the loss function.\n",
    "\n",
    "Gradient decent is a way of finding the corresponding weight for the minumum loss. (Test Accuracy Value = 0.0844)\n",
    "\n",
    "RMSprop (Root mean squared Propagation) is an extension of gradiant decent (Test Accuracy Value = 0.6365). The optimizer uses a decaying averge of partial gradients in the adaption of the step size for each parameter. A benefit of using decaying moving average allows the algorithm to forget the earliest gradients it observed and and only focus on the most recent observed partial gradient seen durong the progress of the search.\n",
    "\n",
    "ADAM (Test Accuracy Value = 0.5645) is also an extension of stochastic gradient decent. Adam calculates the exponential moving average of the gradient and the squared gradient. THe parameters beta 1 and beta 2 control the decay rates of these moving averages."
   ]
  },
  {
   "cell_type": "markdown",
   "id": "3ee8175a",
   "metadata": {},
   "source": [
    "c) (3 marks) Write your student number on paper and take a photo. How well are the individual digits recognized? (Hint: you need to convert the photo first into the desired format, and there are many ways to do this.  You are expected \n",
    "to read up on a suitable way yourself, and describe how you did it.)"
   ]
  },
  {
   "cell_type": "code",
   "execution_count": 27,
   "id": "5a744d07",
   "metadata": {},
   "outputs": [],
   "source": [
    "import cv2 as cv\n",
    "import matplotlib.pyplot as plt\n",
    "\n",
    "# We will need to use the library Open cv for this part of the assignment \n",
    "# in order to read in the 9 images of my student number"
   ]
  },
  {
   "cell_type": "markdown",
   "id": "c7cf40b5",
   "metadata": {},
   "source": [
    "I will carry out the reading in process for 1 image in this part, just to explain the process and why we are doing what we are doing.\n",
    "\n",
    "Firstly, Load in the sample image. Assign the variable file the filepath of the selected image.\n",
    "\n",
    "We then use the function imread to read in the image in greyscale using IMREAD_GRAYSCALE because that's is what we want to match the MNIST training data"
   ]
  },
  {
   "cell_type": "code",
   "execution_count": 28,
   "id": "0cec73ce",
   "metadata": {},
   "outputs": [
    {
     "data": {
      "text/plain": [
       "<matplotlib.image.AxesImage at 0x7ff858bf6190>"
      ]
     },
     "execution_count": 28,
     "metadata": {},
     "output_type": "execute_result"
    },
    {
     "data": {
      "image/png": "[encoded data removed]",
      "text/plain": [
       "<Figure size 432x288 with 1 Axes>"
      ]
     },
     "metadata": {
      "needs_background": "light"
     },
     "output_type": "display_data"
    }
   ],
   "source": [
    "file = r'No '+str(1)+'.jpg'\n",
    "test_image = cv.imread(file, cv.IMREAD_GRAYSCALE)\n",
    "\n",
    "#Preview sample image\n",
    "plt.imshow(test_image,cmap = 'gray')"
   ]
  },
  {
   "cell_type": "markdown",
   "id": "f26d702f",
   "metadata": {},
   "source": [
    "There are two main differences between what I have above and the MNIST data:\n",
    "\n",
    "- 1: the MNIST data are size 28 x 28 and our images need to be that same size because the neural network is complied and trained on the basis of inputs being 28 x 28 array\n",
    "\n",
    "- 2: Resize image and define an interpolation parameter which can be described as math it uses to resize the image. In this case, the default interpolation parameter will be used. You could try other interpolation parameters and see if the nueral network happens to be more accurate with one interpolation method over another.\n",
    " "
   ]
  },
  {
   "cell_type": "code",
   "execution_count": 29,
   "id": "81cf8f69",
   "metadata": {},
   "outputs": [
    {
     "data": {
      "text/plain": [
       "<matplotlib.image.AxesImage at 0x7ff858bd2b50>"
      ]
     },
     "execution_count": 29,
     "metadata": {},
     "output_type": "execute_result"
    },
    {
     "data": {
      "image/png": "[encoded data removed]",
      "text/plain": [
       "<Figure size 432x288 with 1 Axes>"
      ]
     },
     "metadata": {
      "needs_background": "light"
     },
     "output_type": "display_data"
    }
   ],
   "source": [
    "img_resized = cv.resize(test_image, (28,28), interpolation = cv.INTER_LINEAR)\n",
    "plt.imshow(img_resized,cmap = 'gray')"
   ]
  },
  {
   "cell_type": "markdown",
   "id": "1996a1de",
   "metadata": {},
   "source": [
    "We then normalise the Input. "
   ]
  },
  {
   "cell_type": "code",
   "execution_count": 30,
   "id": "529ac966",
   "metadata": {},
   "outputs": [],
   "source": [
    "img_resized = img_resized / 255.0 #so that each values is limited between 0 and 1"
   ]
  },
  {
   "cell_type": "code",
   "execution_count": 31,
   "id": "05ea85d3",
   "metadata": {},
   "outputs": [
    {
     "data": {
      "text/plain": [
       "array([0.89803922, 0.92941176, 0.90980392, 0.89803922, 0.89803922,\n",
       "       0.89411765, 0.91764706, 0.90588235, 0.90980392, 0.92156863,\n",
       "       0.90980392, 0.89019608, 0.78039216, 0.02745098, 0.04313725,\n",
       "       0.8627451 , 0.90196078, 0.90196078, 0.92156863, 0.92156863,\n",
       "       0.91764706, 0.89803922, 0.90588235, 0.90980392, 0.88235294,\n",
       "       0.91372549, 0.91372549, 0.88627451])"
      ]
     },
     "execution_count": 31,
     "metadata": {},
     "output_type": "execute_result"
    }
   ],
   "source": [
    "img_resized[12]"
   ]
  },
  {
   "cell_type": "markdown",
   "id": "dcecee0e",
   "metadata": {},
   "source": [
    "We can see that the values at each element do not behave as the model would expect. ie. white is supposed to be represented by zero and black is to be represented by onethis is inverted in the case above.\n",
    "\n",
    "\n",
    "We must now look at how to invert an image so that it can be changed from a digit that is black with a white background to a digit that is white with a black background."
   ]
  },
  {
   "cell_type": "code",
   "execution_count": 32,
   "id": "39d24293",
   "metadata": {},
   "outputs": [
    {
     "data": {
      "text/plain": [
       "<matplotlib.image.AxesImage at 0x7ff858b30ca0>"
      ]
     },
     "execution_count": 32,
     "metadata": {},
     "output_type": "execute_result"
    },
    {
     "data": {
      "image/png": "[encoded data removed]",
      "text/plain": [
       "<Figure size 432x288 with 1 Axes>"
      ]
     },
     "metadata": {
      "needs_background": "light"
     },
     "output_type": "display_data"
    }
   ],
   "source": [
    "img_resized_invert = 1 - img_resized\n",
    "\n",
    "plt.imshow(img_resized_invert,cmap = 'gray')\n",
    "\n",
    "#alternative opencv method to invert and image, which did not work in this case.\n",
    "#img_resized_invert = cv.bitwise_not(img_resized)"
   ]
  },
  {
   "cell_type": "code",
   "execution_count": 33,
   "id": "709902d8",
   "metadata": {},
   "outputs": [
    {
     "data": {
      "text/plain": [
       "array([0.10196078, 0.07058824, 0.09019608, 0.10196078, 0.10196078,\n",
       "       0.10588235, 0.08235294, 0.09411765, 0.09019608, 0.07843137,\n",
       "       0.09019608, 0.10980392, 0.21960784, 0.97254902, 0.95686275,\n",
       "       0.1372549 , 0.09803922, 0.09803922, 0.07843137, 0.07843137,\n",
       "       0.08235294, 0.10196078, 0.09411765, 0.09019608, 0.11764706,\n",
       "       0.08627451, 0.08627451, 0.11372549])"
      ]
     },
     "execution_count": 33,
     "metadata": {},
     "output_type": "execute_result"
    }
   ],
   "source": [
    "img_resized_invert[12]"
   ]
  },
  {
   "cell_type": "markdown",
   "id": "eda52fad",
   "metadata": {},
   "source": [
    "We can now see that our white space values are closer to 0 and or black space values are closer to 1."
   ]
  },
  {
   "cell_type": "markdown",
   "id": "70fc981d",
   "metadata": {},
   "source": [
    "The image is now in a suitable condition for the model to assess it. \n",
    "I've used a for loop to do the process explained above for all 9 images."
   ]
  },
  {
   "cell_type": "markdown",
   "id": "4e5de7af",
   "metadata": {},
   "source": [
    "## 1(c) for Entire Student Number"
   ]
  },
  {
   "cell_type": "code",
   "execution_count": 35,
   "id": "13b522e9",
   "metadata": {},
   "outputs": [
    {
     "data": {
      "text/plain": [
       "((9, 28, 28), tuple)"
      ]
     },
     "execution_count": 35,
     "metadata": {},
     "output_type": "execute_result"
    },
    {
     "data": {
      "image/png": "[encoded data removed]",
      "text/plain": [
       "<Figure size 720x720 with 9 Axes>"
      ]
     },
     "metadata": {},
     "output_type": "display_data"
    }
   ],
   "source": [
    "import cv2 as cv\n",
    "import matplotlib.pyplot as plt\n",
    "\n",
    "images=[] #Create list to store images\n",
    "\n",
    "for i in range(1,10):\n",
    "    \n",
    "        #imagepath = r'/home/patrick/Documents/AM6016/Assignments/Student number images/Edited/No '+str(i)+'.jpg'\n",
    "        imagepath = r'No '+str(i)+'.jpg'\n",
    "        img=cv.imread(str(imagepath),cv.IMREAD_GRAYSCALE)                       \n",
    "        img=cv.resize(img,(28,28))\n",
    "        img= img / 255.0\n",
    "        img= 1 - img\n",
    "        images.append(img)    \n",
    "\n",
    "#Plot resized and inverted images to the screen\n",
    "\n",
    "plt.figure(figsize=(10,10))\n",
    "for i in range(0,9):\n",
    "    plt.subplot(3,3,i+1)\n",
    "    plt.xticks([])\n",
    "    plt.yticks([])\n",
    "    plt.grid(False)\n",
    "    plt.imshow(images[i], cmap=plt.cm.binary)\n",
    "    \n",
    "#convert list into an array\n",
    "id_images = np.array(images)\n",
    "\n",
    "#Set a tolerance on the images: Any pixels with a value of less than 0.37 set to zero.(ie. whitespace)\n",
    "id_images[id_images < 0.37]=0\n",
    "\n",
    "#create an array of the correct labels for the numbers\n",
    "id_labels = np.array([1,1,3,3,8,4,1,1,6])\n",
    "\n",
    "#print array shape and type\n",
    "id_images.shape, type(id_images.shape)"
   ]
  },
  {
   "cell_type": "code",
   "execution_count": 36,
   "id": "90f7c569",
   "metadata": {},
   "outputs": [
    {
     "name": "stdout",
     "output_type": "stream",
     "text": [
      "1/1 [==============================] - 0s 122ms/step - loss: 1.4151 - accuracy: 0.7778\n",
      "Test accuracy: 0.7777777910232544\n"
     ]
    }
   ],
   "source": [
    "#Evaulating the student number photos data using the trained network\n",
    "\n",
    "test_loss, test_acc = model.evaluate(id_images, id_labels)\n",
    "\n",
    "print('Test accuracy:', test_acc)"
   ]
  },
  {
   "cell_type": "code",
   "execution_count": 37,
   "id": "dcfce6eb",
   "metadata": {},
   "outputs": [
    {
     "name": "stdout",
     "output_type": "stream",
     "text": [
      "1/1 [==============================] - 0s 17ms/step\n"
     ]
    }
   ],
   "source": [
    "# Use model.predict to claculate the output vector for the id data\n",
    "# and then checkts which of the oupts is the largest one\n",
    "\n",
    "predictions = model.predict(id_images)"
   ]
  },
  {
   "cell_type": "code",
   "execution_count": 38,
   "id": "4085a901",
   "metadata": {},
   "outputs": [
    {
     "data": {
      "text/plain": [
       "(array([7.6475669e-07, 2.8685833e-04, 9.3272913e-01, 5.9911124e-02,\n",
       "        3.0622640e-08, 6.5351948e-03, 1.3424446e-06, 2.5358217e-04,\n",
       "        1.8773487e-04, 9.4369316e-05], dtype=float32),\n",
       " 1.0000001267492955,\n",
       " 8)"
      ]
     },
     "execution_count": 38,
     "metadata": {},
     "output_type": "execute_result"
    }
   ],
   "source": [
    "predictions[1], sum(predictions[1]), np.argmax(predictions[4])"
   ]
  },
  {
   "cell_type": "markdown",
   "id": "0eca96d2",
   "metadata": {},
   "source": [
    "Use Plot_image functions from the online tutorials to explore when the function fails/succeed"
   ]
  },
  {
   "cell_type": "code",
   "execution_count": 40,
   "id": "a39087bc",
   "metadata": {},
   "outputs": [
    {
     "data": {
      "image/png": "[encoded data removed]",
      "text/plain": [
       "<Figure size 864x432 with 18 Axes>"
      ]
     },
     "metadata": {
      "needs_background": "light"
     },
     "output_type": "display_data"
    }
   ],
   "source": [
    "# Plot the first X test images, their predicted labels, and the true labels.\n",
    "# Color correct predictions in blue and incorrect predictions in red.\n",
    "\n",
    "offset=0\n",
    "num_rows = 3\n",
    "num_cols = 3\n",
    "num_images = num_rows*num_cols\n",
    "plt.figure(figsize=(2*2*num_cols, 2*num_rows))\n",
    "for i in range(num_images):\n",
    "    plt.subplot(num_rows, 2*num_cols, 2*i+1)\n",
    "    plot_image(i+offset, predictions[i+offset], id_labels, id_images)\n",
    "    plt.subplot(num_rows, 2*num_cols, 2*i+2)\n",
    "    plot_value_array(i+offset, predictions[i+offset], id_labels)\n",
    "plt.tight_layout()\n",
    "plt.show()"
   ]
  },
  {
   "cell_type": "markdown",
   "id": "2538af1d",
   "metadata": {},
   "source": [
    "## The Effect of the Input the Machine is fed\n",
    "\n",
    "Looking at  the first pair of ones in my student number. \n",
    "The first 1, is correctly identified as the number 1. This image was treated before feeding it to the computer. It's contrast was adjusted making it very clear what is black and what is white.\n",
    "\n",
    "The second 1, is incorrectly identified as the number 2. This image was fed to the computer untreated for contrast as a result we can see that for the pixels at the lower part of the image the computer is having difficulty determining whether each pixel is white or black. \n",
    "\n",
    "If we now turn our attention to the number 1 at position 6 (of 0 to 8) in my student number, we can see i've written 1 differently hear. In this case, is a lot smaller here. it is correctly identified as the number 1 but in this case the computer is not as sure and has also itenfied traits of all other possible figures baring 0."
   ]
  }
 ],
 "metadata": {
  "kernelspec": {
   "display_name": "Python 3 (ipykernel)",
   "language": "python",
   "name": "python3"
  },
  "language_info": {
   "codemirror_mode": {
    "name": "ipython",
    "version": 3
   },
   "file_extension": ".py",
   "mimetype": "text/x-python",
   "name": "python",
   "nbconvert_exporter": "python",
   "pygments_lexer": "ipython3",
   "version": "3.9.7"
  }
 },
 "nbformat": 4,
 "nbformat_minor": 5
}
